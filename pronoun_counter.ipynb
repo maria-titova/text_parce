{
 "cells": [
  {
   "cell_type": "code",
   "execution_count": 1,
   "metadata": {},
   "outputs": [],
   "source": [
    "import numpy as np\n",
    "import string"
   ]
  },
  {
   "cell_type": "markdown",
   "metadata": {},
   "source": [
    "Let us first parse the whole folder that contains the .txt files and save all filenames, in order to work with them later."
   ]
  },
  {
   "cell_type": "code",
   "execution_count": 2,
   "metadata": {},
   "outputs": [],
   "source": [
    "import glob\n",
    "\n",
    "filename_list = []\n",
    "\n",
    "for filename in glob.glob('files/*.txt'):\n",
    "    filename_list.append(filename)"
   ]
  },
  {
   "cell_type": "markdown",
   "metadata": {},
   "source": [
    "To check ourselves, let's print out the first element of the filename_list list, along with its type:"
   ]
  },
  {
   "cell_type": "code",
   "execution_count": 3,
   "metadata": {},
   "outputs": [
    {
     "name": "stdout",
     "output_type": "stream",
     "text": [
      "files\\1967-05-26.txt\n",
      "<class 'str'>\n"
     ]
    }
   ],
   "source": [
    "print(filename_list[0])\n",
    "print( type(filename_list[0]) ) "
   ]
  },
  {
   "cell_type": "markdown",
   "metadata": {},
   "source": [
    "This is how many files we are working with"
   ]
  },
  {
   "cell_type": "code",
   "execution_count": 4,
   "metadata": {},
   "outputs": [
    {
     "name": "stdout",
     "output_type": "stream",
     "text": [
      "2886\n"
     ]
    }
   ],
   "source": [
    "N = len(filename_list)\n",
    "print( N )"
   ]
  },
  {
   "cell_type": "markdown",
   "metadata": {},
   "source": [
    "Next, we take the first file, and do things to it. First of all, we need to get the year, month and date out of the filename.\n",
    "\n",
    "We use the .split() method. It divides a string into parts dived by a prespecified symbol. Since our filename is \"files/2014-12-08.txt\", we need to first divide it by \"/\" into \"files\" and \"2014-12-08.txt\". Then, we divide the latter part by \".\" into \"2014-12-08\" and \"txt\". Finally, we divide the former bit into \"2014\", \"12\", \"08\" by using the \"-\" dividor. We will convert these srings into integers and store them into \"year\", \"month\" and \"day\" variable."
   ]
  },
  {
   "cell_type": "code",
   "execution_count": 5,
   "metadata": {},
   "outputs": [
    {
     "name": "stdout",
     "output_type": "stream",
     "text": [
      "the result of the first division: \n",
      "['files', '1967-05-26.txt']\n",
      "the result of the second division: \n",
      "['1967-05-26', 'txt']\n",
      "the result of the third division: \n",
      "['1967', '05', '26']\n",
      "file from year 1967, month 05 and day 26.\n"
     ]
    }
   ],
   "source": [
    "first_division = filename_list[0].split('\\\\')     # on unix, change to ..split('/')\n",
    "print(\"the result of the first division: \")\n",
    "print(first_division)\n",
    "\n",
    "second_division = first_division[1].split('.')\n",
    "print(\"the result of the second division: \")\n",
    "print(second_division)\n",
    "\n",
    "parsed_date = second_division[0].split('-')\n",
    "print(\"the result of the third division: \")\n",
    "print(parsed_date)\n",
    "\n",
    "print(\"file from year \" + parsed_date[0] + \", month \" + parsed_date[1] + \" and day \" + parsed_date[2] + \".\")"
   ]
  },
  {
   "cell_type": "markdown",
   "metadata": {},
   "source": [
    "Since we parsed a string, the values for year, month, and day are in string format as well. Let us convert it to integers (numbers):"
   ]
  },
  {
   "cell_type": "code",
   "execution_count": 6,
   "metadata": {},
   "outputs": [],
   "source": [
    "year = int( parsed_date[0] )\n",
    "month = int( parsed_date[1] )\n",
    "day = int( parsed_date[2] )"
   ]
  },
  {
   "cell_type": "markdown",
   "metadata": {},
   "source": [
    "From document \"article_parse\", we already know what to do with a document once we open it. The last issue remaining is to work with every document. For every document in the folder, we read its filename, record the issue date, and then parse the text for feminine and masculine pronouns. Let begin by creating (empty) arrays that will store all the necessary data:"
   ]
  },
  {
   "cell_type": "code",
   "execution_count": 7,
   "metadata": {},
   "outputs": [],
   "source": [
    "year_array = np.zeros(N)    # years of issues\n",
    "fem_array = np.zeros(N)     # number of feminine pronouns\n",
    "masc_array = np.zeros(N)    # number of maculine pronouns\n",
    "\n",
    "\n",
    "for i in range(N):\n",
    "    # here we're parsing filename of file number i between 0 and N\n",
    "    first_division = filename_list[i].split('\\\\')           # on unix, change to ..split('/')\n",
    "    second_division = first_division[1].split('.')\n",
    "    parsed_date = second_division[0].split('-')\n",
    "\n",
    "    # recording year values into arrays\n",
    "    year_array[i] = int( parsed_date[0] )\n",
    "    \n",
    "    # next goes the opening the file code \n",
    "    with open(filename_list[i], 'r', encoding=\"utf8\") as myfile:\n",
    "        text = myfile.read()\n",
    "    text = text.replace(\"\\n\", \" \") # get rid of line breaks\n",
    "\n",
    "    # removing punctuation and special symbols\n",
    "    translation = str.maketrans(\"\",\"\", ',.\"“—’”‘/!-:[]?–|&\\'▶~•_>{}()<>;·\\\\')    \n",
    "    text = text.translate(translation)\n",
    "    text = text.lower()  # removing upper case\n",
    "    text = text.replace(\"  \", \" \")   # in case there are double spaces\n",
    "    \n",
    "    # transforming text into array of words\n",
    "    array_text = np.array(text.split(' '))\n",
    "    \n",
    "    fem = np.array([\"she\",\"her\",\"hers\",\"herself\",\"female\",\"woman\",\"women\",\"shes\",\"womans\"])\n",
    "    mal = np.array([\"he\",\"his\",\"himself\",\"male\",\"man\",\"men\", \"hes\", \"mans\"])\n",
    "    \n",
    "    ms = np.where( np.isin(array_text, fem) )[0]\n",
    "    mr = np.where( np.isin(array_text, mal) )[0]\n",
    "    \n",
    "    # recording the number of mentions of men and women into respective array cells:\n",
    "    fem_array[i] = len(ms)\n",
    "    masc_array[i] = len(mr)"
   ]
  },
  {
   "cell_type": "markdown",
   "metadata": {},
   "source": [
    "Our next issue is that there are many issues within the same year. For example, let's print the indices of all array elements (issues) that came out in 1990:"
   ]
  },
  {
   "cell_type": "code",
   "execution_count": 8,
   "metadata": {},
   "outputs": [
    {
     "name": "stdout",
     "output_type": "stream",
     "text": [
      "(array([1448, 1449, 1450, 1451, 1452, 1453, 1454, 1455, 1456, 1457, 1458,\n",
      "       1459, 1460, 1461, 1462, 1463, 1464, 1465, 1466, 1467, 1468, 1469,\n",
      "       1470, 1471, 1472, 1473, 1474, 1475, 1476, 1477, 1478, 1479, 1480,\n",
      "       1481, 1482, 1483, 1484, 1485, 1486, 1487, 1488, 1489, 1490, 1491,\n",
      "       1492, 1493, 1494, 1495, 1496, 1497, 1498, 1499, 1500, 1501, 1502,\n",
      "       1503, 1504, 1505, 1506, 1507, 1508, 1509, 1510, 1511, 1512, 1513,\n",
      "       1514], dtype=int64),)\n"
     ]
    }
   ],
   "source": [
    "print(np.where(year_array == 1990))"
   ]
  },
  {
   "cell_type": "markdown",
   "metadata": {},
   "source": [
    "To group issues by year, let us first print and save all the years, in which at least one issue of the newspaper came out (and we have it in our dataset):"
   ]
  },
  {
   "cell_type": "code",
   "execution_count": 9,
   "metadata": {},
   "outputs": [
    {
     "name": "stdout",
     "output_type": "stream",
     "text": [
      "[1967. 1968. 1970. 1971. 1972. 1973. 1974. 1975. 1976. 1977. 1978. 1979.\n",
      " 1980. 1981. 1982. 1983. 1984. 1985. 1986. 1987. 1988. 1989. 1990. 1991.\n",
      " 1992. 1993. 1994. 1995. 1996. 1997. 1998. 1999. 2000. 2001. 2002. 2003.\n",
      " 2004. 2005. 2006. 2007. 2008. 2009. 2010. 2011. 2012. 2013. 2014.]\n"
     ]
    }
   ],
   "source": [
    "issue_years = np.unique(year_array)\n",
    "print(issue_years)"
   ]
  },
  {
   "cell_type": "markdown",
   "metadata": {},
   "source": [
    "Note that we could have just entered every year from 1967 to 2014. However, this is sometimes risky to do so because some years may be missing."
   ]
  },
  {
   "cell_type": "markdown",
   "metadata": {},
   "source": [
    "It is useful to track how many issues come out every year, just in case. Also, we will be interested in the pronouns usage."
   ]
  },
  {
   "cell_type": "code",
   "execution_count": 10,
   "metadata": {},
   "outputs": [],
   "source": [
    "number_issues_year = []\n",
    "fem_mentioned_year = []\n",
    "masc_mentioned_year = []"
   ]
  },
  {
   "cell_type": "markdown",
   "metadata": {},
   "source": [
    "What we do next is find every issue that came out in a given year, and add the mentions of men and women within this year. We also calculate the frequency of mentions per year, as different years may have different number of issues."
   ]
  },
  {
   "cell_type": "code",
   "execution_count": 11,
   "metadata": {},
   "outputs": [],
   "source": [
    "for year in issue_years:\n",
    "    # find indices of all array entries corresponding to this year\n",
    "    indices_year = np.where(year_array == year)\n",
    "    number_issues_year.append( len(year_array[indices_year]) )\n",
    "    fem_mentioned_year.append( np.sum( fem_array[indices_year] ) )\n",
    "    masc_mentioned_year.append( np.sum( masc_array[indices_year] ) )"
   ]
  },
  {
   "cell_type": "markdown",
   "metadata": {},
   "source": [
    "Finally, we would like to visualize the number of mentions of men and women."
   ]
  },
  {
   "cell_type": "code",
   "execution_count": 12,
   "metadata": {},
   "outputs": [
    {
     "data": {
      "image/png": "[encoded data removed]",
      "text/plain": [
       "<Figure size 432x288 with 1 Axes>"
      ]
     },
     "metadata": {},
     "output_type": "display_data"
    }
   ],
   "source": [
    "import matplotlib.pyplot as plt\n",
    "%matplotlib inline\n",
    "\n",
    "plot1 = plt.scatter(issue_years, masc_mentioned_year)\n",
    "plot2 = plt.scatter(issue_years, fem_mentioned_year)\n",
    "\n",
    "plt.legend((plot1,plot2),(\"masculine\",\"feminine\") )\n",
    "plt.title(\"Pronouns mention within a year, total\")\n",
    "plt.draw()"
   ]
  },
  {
   "cell_type": "raw",
   "metadata": {},
   "source": [
    "The aggregate number of mentions is not as informative as the frequency per issue. Let us draw that instead"
   ]
  },
  {
   "cell_type": "code",
   "execution_count": 13,
   "metadata": {},
   "outputs": [],
   "source": [
    "num_years = len(issue_years)\n",
    "np_fem_freq = np.zeros(num_years)\n",
    "np_masc_freq = np.zeros(num_years)\n",
    "\n",
    "for i in range(num_years):\n",
    "    np_fem_freq[i] = fem_mentioned_year[i] / number_issues_year[i]\n",
    "    np_masc_freq[i] = masc_mentioned_year[i] / number_issues_year[i]"
   ]
  },
  {
   "cell_type": "code",
   "execution_count": 14,
   "metadata": {},
   "outputs": [
    {
     "data": {
      "image/png": "[encoded data removed]",
      "text/plain": [
       "<Figure size 432x288 with 1 Axes>"
      ]
     },
     "metadata": {},
     "output_type": "display_data"
    }
   ],
   "source": [
    "plot1 = plt.scatter(issue_years, np_masc_freq)\n",
    "plot2 = plt.scatter(issue_years, np_fem_freq)\n",
    "\n",
    "plt.legend((plot1,plot2),(\"masculine\",\"feminine\") )\n",
    "plt.title(\"Pronouns mention per issue within a year\")\n",
    "plt.draw()"
   ]
  }
 ],
 "metadata": {
  "kernelspec": {
   "display_name": "Python 3",
   "language": "python",
   "name": "python3"
  },
  "language_info": {
   "codemirror_mode": {
    "name": "ipython",
    "version": 3
   },
   "file_extension": ".py",
   "mimetype": "text/x-python",
   "name": "python",
   "nbconvert_exporter": "python",
   "pygments_lexer": "ipython3",
   "version": "3.6.5"
  }
 },
 "nbformat": 4,
 "nbformat_minor": 2
}
